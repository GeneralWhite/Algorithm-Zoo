{
 "cells": [
  {
   "metadata": {},
   "cell_type": "markdown",
   "source": [
    "#### 当模型训练和推理时, 数据应该在GPU上\n",
    "#### 当使用后处理(**可视化或保存结果**)时, 数据需要转回CPU上\n",
    "#### 某些库(numpy, pandas, openCV等)只能在CPU上运行, 使用时必须将数据转到CPU上 "
   ],
   "id": "49bb759b1aeae93c"
  },
  {
   "metadata": {},
   "cell_type": "markdown",
   "source": [
    "```\n",
    "# 训练阶段\n",
    "inputs = load_data().to('cuda')  # CPU→GPU\n",
    "outputs = model(inputs)\n",
    "loss = loss_fn(outputs, labels.to('cuda'))\n",
    "\n",
    "# 日志记录\n",
    "if step % 100 == 0:\n",
    "    print(f\"Loss: {loss.detach().cpu().item()}\")  # GPU→CPU\n",
    "\n",
    "# 结果保存\n",
    "final_result = postprocess(outputs.detach().cpu())  # 后处理需CPU\n",
    "torch.save(final_result, 'result.pt')\n",
    "```"
   ],
   "id": "8253e623f22da9de"
  },
  {
   "metadata": {},
   "cell_type": "markdown",
   "source": [
    "在 PyTorch 中，detach() 方法返回一个新的 Tensor，这个 Tensor 和原来的 Tensor 共享相同的内存空间，但是不会被计算图所追踪，也就是说它不会参与反向传播，不会影响到原有的计算图, 通常在以下两种情况下使用：\n",
    "1. 在计算图中间，需要截断反向传播的梯度计算时。例如，当计算某个 Tensor 的梯度时，我们希望在此处截断反向传播，而不是将梯度一直传递到计算图的顶部，从而减少计算量和内存占用。\n",
    "2. 在将 Tensor 从 GPU 上拷贝到 CPU 上时，由于 Tensor 默认是在 GPU 上存储的，所以直接进行拷贝可能会导致内存不一致的问题。此时可以使用 detach() 方法先将 Tensor 分离出来，然后再将分离出来的 Tensor 拷贝到 CPU 上。"
   ],
   "id": "5a4f5288b971b738"
  },
  {
   "metadata": {},
   "cell_type": "code",
   "outputs": [],
   "execution_count": null,
   "source": [
    "import torch\n",
    "\n",
    "# 危险操作（可能导致梯度错误）\n",
    "a = torch.tensor([2.0], requires_grad=True)\n",
    "b = a.data\n",
    "b += 1  # 修改原始数据但无报警\n",
    "loss = (a * 3).sum()\n",
    "loss.backward()  # 梯度计算基于被篡改的值\n",
    "\n",
    "# 安全操作\n",
    "a = torch.tensor([2.0], requires_grad=True)\n",
    "b = a.detach()\n",
    "b += 1  # 触发 RuntimeError: a leaf Variable that requires grad..."
   ],
   "id": "a372ae5203100c64"
  },
  {
   "metadata": {},
   "cell_type": "markdown",
   "source": "",
   "id": "5852437e157e36da"
  },
  {
   "metadata": {
    "ExecuteTime": {
     "end_time": "2025-02-13T02:13:01.704389Z",
     "start_time": "2025-02-13T02:13:01.692968Z"
    }
   },
   "cell_type": "code",
   "source": [
    "import torch\n",
    "\n",
    "a = torch.tensor([1.0], requires_grad=True)\n",
    "# b和a共享同一块内存\n",
    "b = a.detach()\n",
    "b[0] = 5.0\n",
    "print(a)  # 输出 tensor([5.], requires_grad=True)"
   ],
   "id": "4b801af605c88ddc",
   "outputs": [
    {
     "name": "stdout",
     "output_type": "stream",
     "text": [
      "tensor([5.], requires_grad=True)\n"
     ]
    }
   ],
   "execution_count": 3
  }
 ],
 "metadata": {
  "kernelspec": {
   "display_name": "Python 3",
   "language": "python",
   "name": "python3"
  },
  "language_info": {
   "codemirror_mode": {
    "name": "ipython",
    "version": 2
   },
   "file_extension": ".py",
   "mimetype": "text/x-python",
   "name": "python",
   "nbconvert_exporter": "python",
   "pygments_lexer": "ipython2",
   "version": "2.7.6"
  }
 },
 "nbformat": 4,
 "nbformat_minor": 5
}
